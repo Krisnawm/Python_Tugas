{
  "nbformat": 4,
  "nbformat_minor": 0,
  "metadata": {
    "colab": {
      "name": "Tugas 13 Python Pathloss Simulation.ipynb",
      "provenance": [],
      "collapsed_sections": [],
      "authorship_tag": "ABX9TyNVtnf02rz+R4Rfq0qZEcQn",
      "include_colab_link": true
    },
    "kernelspec": {
      "name": "python3",
      "display_name": "Python 3"
    }
  },
  "cells": [
    {
      "cell_type": "markdown",
      "metadata": {
        "id": "view-in-github",
        "colab_type": "text"
      },
      "source": [
        "<a href=\"https://colab.research.google.com/github/Krisnawm/Python_Tugas/blob/main/Tugas_13_Python_Pathloss_Simulation.ipynb\" target=\"_parent\"><img src=\"https://colab.research.google.com/assets/colab-badge.svg\" alt=\"Open In Colab\"/></a>"
      ]
    },
    {
      "cell_type": "markdown",
      "metadata": {
        "id": "3twpMzcdelzA"
      },
      "source": [
        "**Numpy dan Matplotlib**"
      ]
    },
    {
      "cell_type": "markdown",
      "metadata": {
        "id": "g8Xkmgwae4YR"
      },
      "source": [
        "**Path Loss Simulation**"
      ]
    },
    {
      "cell_type": "markdown",
      "metadata": {
        "id": "XCqb1dode_8r"
      },
      "source": [
        "**Tugas 13 Krisna Wahyu M_1101208202_TTX 44-01**\r\n"
      ]
    },
    {
      "cell_type": "code",
      "metadata": {
        "id": "yxJ52PDofJcX"
      },
      "source": [
        "import numpy as np\r\n",
        "import matplotlib.pyplot as plt"
      ],
      "execution_count": 4,
      "outputs": []
    },
    {
      "cell_type": "code",
      "metadata": {
        "colab": {
          "base_uri": "https://localhost:8080/"
        },
        "id": "BYstU7xTfSM2",
        "outputId": "b7f465ac-c44e-4c21-b7e3-b82a003a758c"
      },
      "source": [
        "np.zeros(4)"
      ],
      "execution_count": 5,
      "outputs": [
        {
          "output_type": "execute_result",
          "data": {
            "text/plain": [
              "array([0., 0., 0., 0.])"
            ]
          },
          "metadata": {
            "tags": []
          },
          "execution_count": 5
        }
      ]
    },
    {
      "cell_type": "code",
      "metadata": {
        "colab": {
          "base_uri": "https://localhost:8080/"
        },
        "id": "Wrjxa2PQfTKF",
        "outputId": "a8771c4e-0629-4194-8508-0dfa772f14e4"
      },
      "source": [
        "np.ones(3)"
      ],
      "execution_count": 6,
      "outputs": [
        {
          "output_type": "execute_result",
          "data": {
            "text/plain": [
              "array([1., 1., 1.])"
            ]
          },
          "metadata": {
            "tags": []
          },
          "execution_count": 6
        }
      ]
    },
    {
      "cell_type": "markdown",
      "metadata": {
        "id": "SpFsDcRpfcqy"
      },
      "source": [
        "**(Baris,Kolom)**"
      ]
    },
    {
      "cell_type": "code",
      "metadata": {
        "colab": {
          "base_uri": "https://localhost:8080/"
        },
        "id": "BHILesvVfg5d",
        "outputId": "ed2f0c54-c383-415a-bf4f-d876f9fd1f93"
      },
      "source": [
        "np.zeros((3,4))"
      ],
      "execution_count": 7,
      "outputs": [
        {
          "output_type": "execute_result",
          "data": {
            "text/plain": [
              "array([[0., 0., 0., 0.],\n",
              "       [0., 0., 0., 0.],\n",
              "       [0., 0., 0., 0.]])"
            ]
          },
          "metadata": {
            "tags": []
          },
          "execution_count": 7
        }
      ]
    },
    {
      "cell_type": "code",
      "metadata": {
        "colab": {
          "base_uri": "https://localhost:8080/"
        },
        "id": "dwKPYjbxfnBm",
        "outputId": "0be64a5e-2dee-4f29-ded2-b8d1fbb7d01e"
      },
      "source": [
        "np.ones((5,2))"
      ],
      "execution_count": 9,
      "outputs": [
        {
          "output_type": "execute_result",
          "data": {
            "text/plain": [
              "array([[1., 1.],\n",
              "       [1., 1.],\n",
              "       [1., 1.],\n",
              "       [1., 1.],\n",
              "       [1., 1.]])"
            ]
          },
          "metadata": {
            "tags": []
          },
          "execution_count": 9
        }
      ]
    },
    {
      "cell_type": "code",
      "metadata": {
        "colab": {
          "base_uri": "https://localhost:8080/"
        },
        "id": "yloV4FdnfqPy",
        "outputId": "4db67d8d-5341-4970-b71e-378bbbb7ddc8"
      },
      "source": [
        "np.arange(10)"
      ],
      "execution_count": 10,
      "outputs": [
        {
          "output_type": "execute_result",
          "data": {
            "text/plain": [
              "array([0, 1, 2, 3, 4, 5, 6, 7, 8, 9])"
            ]
          },
          "metadata": {
            "tags": []
          },
          "execution_count": 10
        }
      ]
    },
    {
      "cell_type": "code",
      "metadata": {
        "colab": {
          "base_uri": "https://localhost:8080/"
        },
        "id": "dKhmb7-lftgZ",
        "outputId": "664d0029-677d-4102-ad5e-328996cdf211"
      },
      "source": [
        "np.arange(2,10)"
      ],
      "execution_count": 11,
      "outputs": [
        {
          "output_type": "execute_result",
          "data": {
            "text/plain": [
              "array([2, 3, 4, 5, 6, 7, 8, 9])"
            ]
          },
          "metadata": {
            "tags": []
          },
          "execution_count": 11
        }
      ]
    },
    {
      "cell_type": "code",
      "metadata": {
        "colab": {
          "base_uri": "https://localhost:8080/"
        },
        "id": "V186OrVZfuX9",
        "outputId": "7ead0503-3a90-49b4-89e2-f3e7bcb76cd1"
      },
      "source": [
        "np.arange(3,47,4)"
      ],
      "execution_count": 12,
      "outputs": [
        {
          "output_type": "execute_result",
          "data": {
            "text/plain": [
              "array([ 3,  7, 11, 15, 19, 23, 27, 31, 35, 39, 43])"
            ]
          },
          "metadata": {
            "tags": []
          },
          "execution_count": 12
        }
      ]
    },
    {
      "cell_type": "markdown",
      "metadata": {
        "id": "7xn1bOEzf0GO"
      },
      "source": [
        "**Arange = (Awal,Akhir,delta)**"
      ]
    },
    {
      "cell_type": "code",
      "metadata": {
        "colab": {
          "base_uri": "https://localhost:8080/"
        },
        "id": "DaDJgZRsfwo2",
        "outputId": "0ded9471-41ed-434e-f23c-5f96e1481d30"
      },
      "source": [
        "np.arange(4,5,0.1)"
      ],
      "execution_count": 13,
      "outputs": [
        {
          "output_type": "execute_result",
          "data": {
            "text/plain": [
              "array([4. , 4.1, 4.2, 4.3, 4.4, 4.5, 4.6, 4.7, 4.8, 4.9])"
            ]
          },
          "metadata": {
            "tags": []
          },
          "execution_count": 13
        }
      ]
    },
    {
      "cell_type": "code",
      "metadata": {
        "colab": {
          "base_uri": "https://localhost:8080/"
        },
        "id": "A4yIZBcQf3nV",
        "outputId": "1a8390af-f8d7-4830-ef1f-d26eb051a81d"
      },
      "source": [
        "np.arange(2,-4,-0.5)"
      ],
      "execution_count": 14,
      "outputs": [
        {
          "output_type": "execute_result",
          "data": {
            "text/plain": [
              "array([ 2. ,  1.5,  1. ,  0.5,  0. , -0.5, -1. , -1.5, -2. , -2.5, -3. ,\n",
              "       -3.5])"
            ]
          },
          "metadata": {
            "tags": []
          },
          "execution_count": 14
        }
      ]
    },
    {
      "cell_type": "code",
      "metadata": {
        "colab": {
          "base_uri": "https://localhost:8080/"
        },
        "id": "cada8LVUf5YL",
        "outputId": "c5399228-0ce4-4c25-84b6-1371f2a2ed1c"
      },
      "source": [
        "np.linspace(2,10,4)"
      ],
      "execution_count": 15,
      "outputs": [
        {
          "output_type": "execute_result",
          "data": {
            "text/plain": [
              "array([ 2.        ,  4.66666667,  7.33333333, 10.        ])"
            ]
          },
          "metadata": {
            "tags": []
          },
          "execution_count": 15
        }
      ]
    },
    {
      "cell_type": "code",
      "metadata": {
        "colab": {
          "base_uri": "https://localhost:8080/"
        },
        "id": "LhSlvpeLf733",
        "outputId": "fb855b08-912d-4399-842e-e32dd9c749c3"
      },
      "source": [
        "np.linspace(2,-4,4)"
      ],
      "execution_count": 16,
      "outputs": [
        {
          "output_type": "execute_result",
          "data": {
            "text/plain": [
              "array([ 2.,  0., -2., -4.])"
            ]
          },
          "metadata": {
            "tags": []
          },
          "execution_count": 16
        }
      ]
    },
    {
      "cell_type": "code",
      "metadata": {
        "id": "sPFlbOmdf-It"
      },
      "source": [
        "e=np.arange(0,20,2)"
      ],
      "execution_count": 18,
      "outputs": []
    },
    {
      "cell_type": "code",
      "metadata": {
        "colab": {
          "base_uri": "https://localhost:8080/"
        },
        "id": "1aXoFXoegCAe",
        "outputId": "e25ab7fc-159c-4fb7-c6f0-cac2d6a2da33"
      },
      "source": [
        "len(e)"
      ],
      "execution_count": 19,
      "outputs": [
        {
          "output_type": "execute_result",
          "data": {
            "text/plain": [
              "10"
            ]
          },
          "metadata": {
            "tags": []
          },
          "execution_count": 19
        }
      ]
    },
    {
      "cell_type": "code",
      "metadata": {
        "colab": {
          "base_uri": "https://localhost:8080/"
        },
        "id": "aiihkNULgEP8",
        "outputId": "aeb6f584-da35-4b97-8b24-74e2ffeec51f"
      },
      "source": [
        "e.reshape(5,2)"
      ],
      "execution_count": 20,
      "outputs": [
        {
          "output_type": "execute_result",
          "data": {
            "text/plain": [
              "array([[ 0,  2],\n",
              "       [ 4,  6],\n",
              "       [ 8, 10],\n",
              "       [12, 14],\n",
              "       [16, 18]])"
            ]
          },
          "metadata": {
            "tags": []
          },
          "execution_count": 20
        }
      ]
    },
    {
      "cell_type": "code",
      "metadata": {
        "colab": {
          "base_uri": "https://localhost:8080/"
        },
        "id": "ghYNwLgUgGjo",
        "outputId": "fe6b1b39-aeb6-4ef5-a994-6331f188ee7f"
      },
      "source": [
        "e.reshape(2,5)"
      ],
      "execution_count": 21,
      "outputs": [
        {
          "output_type": "execute_result",
          "data": {
            "text/plain": [
              "array([[ 0,  2,  4,  6,  8],\n",
              "       [10, 12, 14, 16, 18]])"
            ]
          },
          "metadata": {
            "tags": []
          },
          "execution_count": 21
        }
      ]
    },
    {
      "cell_type": "code",
      "metadata": {
        "colab": {
          "base_uri": "https://localhost:8080/"
        },
        "id": "l5CPVeGRgIrH",
        "outputId": "2635f081-b14d-4d52-8a43-bd7ca81cd23b"
      },
      "source": [
        "print(e)"
      ],
      "execution_count": 22,
      "outputs": [
        {
          "output_type": "stream",
          "text": [
            "[ 0  2  4  6  8 10 12 14 16 18]\n"
          ],
          "name": "stdout"
        }
      ]
    },
    {
      "cell_type": "code",
      "metadata": {
        "id": "v-17tuNygK1a"
      },
      "source": [
        "f=e.reshape(5,2)"
      ],
      "execution_count": 23,
      "outputs": []
    },
    {
      "cell_type": "code",
      "metadata": {
        "colab": {
          "base_uri": "https://localhost:8080/"
        },
        "id": "IPSDcgFZgNxn",
        "outputId": "943e0c44-d7f5-4d5b-8c41-1e7b2fb631c5"
      },
      "source": [
        "print(f)"
      ],
      "execution_count": 24,
      "outputs": [
        {
          "output_type": "stream",
          "text": [
            "[[ 0  2]\n",
            " [ 4  6]\n",
            " [ 8 10]\n",
            " [12 14]\n",
            " [16 18]]\n"
          ],
          "name": "stdout"
        }
      ]
    },
    {
      "cell_type": "code",
      "metadata": {
        "colab": {
          "base_uri": "https://localhost:8080/"
        },
        "id": "BnndMU7IgRJv",
        "outputId": "50ae6697-38cb-4535-cb64-12db6484cea5"
      },
      "source": [
        "np.random.random((3,4))"
      ],
      "execution_count": 25,
      "outputs": [
        {
          "output_type": "execute_result",
          "data": {
            "text/plain": [
              "array([[0.6901416 , 0.44874859, 0.2611169 , 0.45485995],\n",
              "       [0.2942164 , 0.40096283, 0.23280205, 0.9883039 ],\n",
              "       [0.38630448, 0.67509257, 0.37189438, 0.92957938]])"
            ]
          },
          "metadata": {
            "tags": []
          },
          "execution_count": 25
        }
      ]
    },
    {
      "cell_type": "code",
      "metadata": {
        "colab": {
          "base_uri": "https://localhost:8080/"
        },
        "id": "HTGLZ3jugR-g",
        "outputId": "6352719f-395b-4377-b630-9ff7e9a76108"
      },
      "source": [
        "np.random.randint(1,20,10)"
      ],
      "execution_count": 26,
      "outputs": [
        {
          "output_type": "execute_result",
          "data": {
            "text/plain": [
              "array([17, 11,  7, 10, 19,  8, 14, 14, 18,  3])"
            ]
          },
          "metadata": {
            "tags": []
          },
          "execution_count": 26
        }
      ]
    },
    {
      "cell_type": "code",
      "metadata": {
        "colab": {
          "base_uri": "https://localhost:8080/"
        },
        "id": "33fRdiHXgVqL",
        "outputId": "6d755b53-1ed8-43fc-82ef-d0b8a9f739aa"
      },
      "source": [
        "np.random.randn(3)"
      ],
      "execution_count": 27,
      "outputs": [
        {
          "output_type": "execute_result",
          "data": {
            "text/plain": [
              "array([0.23173749, 0.85084534, 0.47851561])"
            ]
          },
          "metadata": {
            "tags": []
          },
          "execution_count": 27
        }
      ]
    },
    {
      "cell_type": "markdown",
      "metadata": {
        "id": "7u4AFZ_ZgWfY"
      },
      "source": [
        "**GRAFIK FREKUENSI 1800MHz (URBAN, OPEN, DAN SUB URBAN)**"
      ]
    },
    {
      "cell_type": "code",
      "metadata": {
        "id": "y_3HHlXjgZm7"
      },
      "source": [
        "def cos(frek,tipe,ht,hr,d):\r\n",
        "    if frek in range(150,1501):\r\n",
        "        Ca=69.55\r\n",
        "        Cb=26.16\r\n",
        "    elif frek in range(1501,2001):\r\n",
        "        Ca=46.3\r\n",
        "        Cb=33.9\r\n",
        "    \r\n",
        "    if tipe=='urban' :\r\n",
        "        Cm=0\r\n",
        "    elif tipe=='suburban' :\r\n",
        "        Cm= -2*((np.log10((frek/28)**2))-5.4)\r\n",
        "    elif tipe=='open' :\r\n",
        "        Cm= -4.78*(np.log10(frek))+18.33*(np.log10(frek))-40.94\r\n",
        "    else :\r\n",
        "        Cm='tipe salah'\r\n",
        "    \r\n",
        "    ahr = (1.1*np.log10(frek)-0.7)*hr-(1.56*np.log10(frek)-1.8)\r\n",
        "    Lp = Ca+(Cb*np.log10(frek))-(13.83*np.log(ht))-ahr+((44.9-6.55*np.log10(ht))*np.log10(d))-Cm\r\n",
        "    \r\n",
        "    return Lp"
      ],
      "execution_count": 28,
      "outputs": []
    },
    {
      "cell_type": "code",
      "metadata": {
        "id": "xgJLg_W-geDc"
      },
      "source": [
        "f=1800 #MHz\r\n",
        "loc1='urban'\r\n",
        "loc2='open'\r\n",
        "loc3='suburban'\r\n",
        "tower=80 #m\r\n",
        "user=1.5 #m\r\n",
        "dmin=200 #m\r\n",
        "dmax=700 #m\r\n",
        "N=200 #titik\r\n",
        "d=np.random.randint(dmin,dmax,N)"
      ],
      "execution_count": 29,
      "outputs": []
    },
    {
      "cell_type": "code",
      "metadata": {
        "colab": {
          "base_uri": "https://localhost:8080/"
        },
        "id": "SyIMFNczghH3",
        "outputId": "cd7f9fdc-58a8-4153-e703-6fcf91a05e08"
      },
      "source": [
        "print(d)"
      ],
      "execution_count": 30,
      "outputs": [
        {
          "output_type": "stream",
          "text": [
            "[334 355 376 437 633 265 274 482 260 576 318 532 661 555 589 566 583 552\n",
            " 655 518 613 453 403 314 248 550 604 264 485 423 248 642 687 317 382 221\n",
            " 412 649 532 213 348 691 453 537 697 674 532 464 364 493 483 530 575 283\n",
            " 592 299 428 276 453 259 225 682 444 460 511 307 513 690 423 223 311 246\n",
            " 638 551 493 216 214 203 364 518 693 364 397 528 230 517 574 200 295 626\n",
            " 679 421 523 513 646 202 296 222 386 673 687 321 405 453 550 497 407 272\n",
            " 286 635 496 267 454 269 209 208 282 447 266 244 682 222 542 628 673 298\n",
            " 415 325 313 601 367 648 483 512 266 589 469 366 351 356 506 274 236 434\n",
            " 261 387 574 582 522 214 483 363 255 610 473 503 301 541 467 218 678 374\n",
            " 558 411 599 528 341 520 456 325 560 307 251 561 276 543 517 395 282 421\n",
            " 479 278 288 460 304 505 210 370 563 485 320 571 206 298 253 677 684 399\n",
            " 211 288]\n"
          ],
          "name": "stdout"
        }
      ]
    },
    {
      "cell_type": "code",
      "metadata": {
        "id": "ms3jLA3Zgjfv"
      },
      "source": [
        "LpUrban=cos(f,loc1,tower,user,d)\r\n",
        "LpOpen=cos(f,loc2,tower,user,d)\r\n",
        "LpSuburban=cos(f,loc3,tower,user,d)"
      ],
      "execution_count": 31,
      "outputs": []
    },
    {
      "cell_type": "code",
      "metadata": {
        "colab": {
          "base_uri": "https://localhost:8080/"
        },
        "id": "FA5DtKMzgoJA",
        "outputId": "0c35be04-d32e-4d12-f2d1-95f2bed9e256"
      },
      "source": [
        "print(LpUrban, LpOpen, LpSuburban)"
      ],
      "execution_count": 32,
      "outputs": [
        {
          "output_type": "stream",
          "text": [
            "[176.86444747 177.72338111 178.53293625 180.65071828 185.87019368\n",
            " 173.6047348  174.07519091 182.03132336 173.3364174  184.5409774\n",
            " 176.17295956 183.42162621 186.47989418 184.01782092 184.85536142\n",
            " 184.29427692 184.71113247 183.94147257 186.35144736 183.04597095\n",
            " 185.41794817 181.15724431 179.50978046 175.99465037 172.67080204\n",
            " 183.89034279 185.20960232 173.55147864 182.11872533 180.19205607\n",
            " 172.67080204 186.06906151 187.0233476  176.12859342 178.75594203\n",
            " 171.04713715 179.8209002  186.22181849 183.42162621 170.52777003\n",
            " 177.44284933 187.10512569 181.15724431 183.5533974  187.22690949\n",
            " 186.75424156 183.42162621 181.49520734 178.07604525 182.34918016\n",
            " 182.06051765 183.36857064 184.51650088 174.53044108 184.92692586\n",
            " 175.30513732 180.35758368 174.17763673 181.15724431 173.28213511\n",
            " 171.29981187 186.92045278 180.87456785 181.37324781 182.8543185\n",
            " 175.67707279 182.90934294 187.08472564 180.19205607 171.17404105\n",
            " 175.85942145 172.55674281 185.98102224 183.91593088 182.34918016\n",
            " 170.72478356 170.59374784 169.85041658 178.07604525 183.04597095\n",
            " 187.14583739 178.07604525 179.29848294 183.31531448 171.60941197\n",
            " 183.01875116 184.49198175 169.64069205 175.11542082 185.713554\n",
            " 186.85835318 180.12529653 183.18128647 182.90934294 186.15655395\n",
            " 169.78085477 175.16309002 171.11073201 178.902675   186.73332658\n",
            " 187.0233476  176.30522567 179.57951445 181.15724431 183.89034279\n",
            " 182.46300896 179.64890493 173.97199457 174.67897923 185.91462979\n",
            " 182.43463788 173.71064686 181.18830549 173.81576852 170.26072435\n",
            " 170.19316433 174.48057824 180.96942503 173.65779037 172.44175248\n",
            " 186.92045278 171.11073201 183.68394734 185.75848621 186.73332658\n",
            " 175.2579472  179.92309826 176.47967047 175.94971816 185.13946324\n",
            " 178.19166482 186.20009722 182.06051765 182.88185758 173.65779037\n",
            " 184.85536142 181.64618668 178.15323031 177.56376198 177.76300487\n",
            " 182.71580964 174.07519091 171.97216775 180.55368296 173.39049132\n",
            " 178.93912065 184.49198175 184.68695008 183.15432715 170.59374784\n",
            " 182.06051765 178.03729354 173.06288963 185.34884139 181.76581574\n",
            " 182.63204584 175.39904592 183.65793397 181.58598899 170.85461155\n",
            " 186.83759232 178.45780947 184.0937577  179.78666874 185.09250907\n",
            " 183.31531448 177.15661694 183.10025324 181.25022312 176.47967047\n",
            " 184.14415574 175.67707279 172.84017768 184.1692873  174.17763673\n",
            " 183.70991276 183.01875116 179.22734017 174.48057824 180.12529653\n",
            " 181.94337571 174.27934286 174.77714157 181.37324781 175.53874529\n",
            " 182.68794368 170.32796189 178.30634309 184.21941631 182.11872533\n",
            " 176.26127482 184.41816723 170.05706436 175.2579472  172.9519738\n",
            " 186.81680082 186.96170094 179.3692682  170.39488001 174.77714157] [173.69550502 174.55443866 175.36399381 177.48177583 182.70125123\n",
            " 170.43579236 170.90624847 178.86238092 170.16747496 181.37203496\n",
            " 173.00401711 180.25268377 183.31095174 180.84887848 181.68641898\n",
            " 181.12533448 181.54219003 180.77253012 183.18250491 179.8770285\n",
            " 182.24900573 177.98830187 176.34083802 172.82570793 169.5018596\n",
            " 180.72140035 182.04065988 170.3825362  178.94978288 177.02311363\n",
            " 169.5018596  182.90011907 183.85440515 172.95965098 175.58699959\n",
            " 167.87819471 176.65195775 183.05287604 180.25268377 167.35882758\n",
            " 174.27390688 183.93618325 177.98830187 180.38445496 184.05796704\n",
            " 183.58529912 180.25268377 178.32626489 174.90710281 179.18023772\n",
            " 178.89157521 180.19962819 181.34755843 171.36149864 181.75798342\n",
            " 172.13619488 177.18864124 171.00869428 177.98830187 170.11319266\n",
            " 168.13086942 183.75151034 177.70562541 178.20430536 179.68537606\n",
            " 172.50813035 179.74040049 183.91578319 177.02311363 168.00509861\n",
            " 172.69047901 169.38780037 182.81207979 180.74698843 179.18023772\n",
            " 167.55584111 167.4248054  166.68147414 174.90710281 179.8770285\n",
            " 183.97689495 174.90710281 176.12954049 180.14637203 168.44046952\n",
            " 179.84980871 181.3230393  166.4717496  171.94647837 182.54461155\n",
            " 183.68941073 176.95635408 180.01234402 179.74040049 182.98761151\n",
            " 166.61191233 171.99414758 167.94178957 175.73373256 183.56438414\n",
            " 183.85440515 173.13628323 176.41057201 177.98830187 180.72140035\n",
            " 179.29406652 176.47996248 170.80305213 171.51003679 182.74568735\n",
            " 179.26569543 170.54170442 178.01936304 170.64682608 167.09178191\n",
            " 167.02422189 171.3116358  177.80048259 170.48884793 169.27281004\n",
            " 183.75151034 167.94178957 180.51500489 182.58954377 183.56438414\n",
            " 172.08900476 176.75415581 173.31072803 172.78077571 181.97052079\n",
            " 175.02272237 183.03115478 178.89157521 179.71291514 170.48884793\n",
            " 181.68641898 178.47724423 174.98428787 174.39481953 174.59406243\n",
            " 179.5468672  170.90624847 168.8032253  177.38474052 170.22154887\n",
            " 175.77017821 181.3230393  181.51800764 179.98538471 167.4248054\n",
            " 178.89157521 174.8683511  169.89394719 182.17989895 178.59687329\n",
            " 179.4631034  172.23010347 180.48899152 178.41704654 167.6856691\n",
            " 183.66864988 175.28886703 180.92481525 176.6177263  181.92356662\n",
            " 180.14637203 173.9876745  179.9313108  178.08128067 173.31072803\n",
            " 180.97521329 172.50813035 169.67123523 181.00034486 171.00869428\n",
            " 180.54097032 179.84980871 176.05839773 171.3116358  176.95635408\n",
            " 178.77443326 171.11040041 171.60819912 178.20430536 172.36980284\n",
            " 179.51900124 167.15901945 175.13740065 181.05047387 178.94978288\n",
            " 173.09233237 181.24922479 166.88812191 172.08900476 169.78303136\n",
            " 183.64785838 183.7927585  176.20032576 167.22593757 171.60819912] [173.29690536 174.155839   174.96539415 177.08317617 182.30265157\n",
            " 170.0371927  170.50764881 178.46378126 169.7688753  180.9734353\n",
            " 172.60541745 179.8540841  182.91235208 180.45027882 181.28781931\n",
            " 180.72673482 181.14359037 180.37393046 182.78390525 179.47842884\n",
            " 181.85040607 177.58970221 175.94223836 172.42710827 169.10325994\n",
            " 180.32280069 181.64206022 169.98393654 178.55118322 176.62451397\n",
            " 169.10325994 182.50151941 183.45580549 172.56105131 175.18839993\n",
            " 167.47959505 176.25335809 182.65427638 179.8540841  166.96022792\n",
            " 173.87530722 183.53758359 177.58970221 179.9858553  183.65936738\n",
            " 183.18669946 179.8540841  177.92766523 174.50850315 178.78163805\n",
            " 178.49297554 179.80102853 180.94895877 170.96289898 181.35938376\n",
            " 171.73759522 176.79004158 170.61009462 177.58970221 169.714593\n",
            " 167.73226976 183.35291068 177.30702575 177.8057057  179.28677639\n",
            " 172.10953069 179.34180083 183.51718353 176.62451397 167.60649895\n",
            " 172.29187935 168.98920071 182.41348013 180.34838877 178.78163805\n",
            " 167.15724145 167.02620574 166.28287448 174.50850315 179.47842884\n",
            " 183.57829529 174.50850315 175.73094083 179.74777237 168.04186986\n",
            " 179.45120905 180.92443964 166.07314994 171.54787871 182.14601189\n",
            " 183.29081107 176.55775442 179.61374436 179.34180083 182.58901184\n",
            " 166.21331267 171.59554792 167.54318991 175.33513289 183.16578447\n",
            " 183.45580549 172.73768357 176.01197235 177.58970221 180.32280069\n",
            " 178.89546686 176.08136282 170.40445247 171.11143713 182.34708769\n",
            " 178.86709577 170.14310475 177.62076338 170.24822642 166.69318225\n",
            " 166.62562223 170.91303614 177.40188292 170.09024827 168.87421038\n",
            " 183.35291068 167.54318991 180.11640523 182.19094411 183.16578447\n",
            " 171.6904051  176.35555615 172.91212837 172.38217605 181.57192113\n",
            " 174.62412271 182.63255512 178.49297554 179.31431548 170.09024827\n",
            " 181.28781931 178.07864457 174.5856882  173.99621987 174.19546276\n",
            " 179.14826754 170.50764881 168.40462564 176.98614086 169.82294921\n",
            " 175.37157855 180.92443964 181.11940798 179.58678505 167.02620574\n",
            " 178.49297554 174.46975144 169.49534753 181.78129928 178.19827363\n",
            " 179.06450373 171.83150381 180.09039186 178.01844688 167.28706944\n",
            " 183.27005022 174.89026737 180.52621559 176.21912664 181.52496696\n",
            " 179.74777237 173.58907484 179.53271113 177.68268101 172.91212837\n",
            " 180.57661363 172.10953069 169.27263557 180.6017452  170.61009462\n",
            " 180.14237066 179.45120905 175.65979807 170.91303614 176.55775442\n",
            " 178.3758336  170.71180075 171.20959946 177.8057057  171.97120318\n",
            " 179.12040158 166.76041979 174.73880099 180.65187421 178.55118322\n",
            " 172.69373271 180.85062513 166.48952225 171.6904051  169.3844317\n",
            " 183.24925872 183.39415884 175.8017261  166.82733791 171.20959946]\n"
          ],
          "name": "stdout"
        }
      ]
    },
    {
      "cell_type": "code",
      "metadata": {
        "colab": {
          "base_uri": "https://localhost:8080/",
          "height": 279
        },
        "id": "UPwlXj4Kgtjx",
        "outputId": "fb22410c-d80a-4f67-cfbd-c99e2f932645"
      },
      "source": [
        "plt.figure()\r\n",
        "plt.plot(d,LpUrban)\r\n",
        "plt.plot(d,LpOpen)\r\n",
        "plt.plot(d,LpSuburban)\r\n",
        "plt.xlabel('Jarak (m)')\r\n",
        "plt.ylabel('Path Loss (dB)')\r\n",
        "plt.show()"
      ],
      "execution_count": 33,
      "outputs": [
        {
          "output_type": "display_data",
          "data": {
            "image/png": "[encoded data removed]",
            "text/plain": [
              "<Figure size 432x288 with 1 Axes>"
            ]
          },
          "metadata": {
            "tags": [],
            "needs_background": "light"
          }
        }
      ]
    },
    {
      "cell_type": "code",
      "metadata": {
        "id": "7SPxOM2jgwlk"
      },
      "source": [
        "d_sort=d[np.argsort(d)]\r\n",
        "Urban_sort1=LpUrban[np.argsort(d)]\r\n",
        "Open_sort2=LpOpen[np.argsort(d)]\r\n",
        "Suburban_sort3=LpSuburban[np.argsort(d)]"
      ],
      "execution_count": 34,
      "outputs": []
    },
    {
      "cell_type": "code",
      "metadata": {
        "colab": {
          "base_uri": "https://localhost:8080/",
          "height": 295
        },
        "id": "2bN83w08g0zF",
        "outputId": "75f3f778-68f5-4bf4-ed39-a9c45c27be7f"
      },
      "source": [
        "plt.figure()\r\n",
        "plt.title('FREKUENSI 1800MHz (URBAN, OPEN, SUBURBAN)')\r\n",
        "plt.plot(d_sort,Urban_sort1, label='Urban')\r\n",
        "plt.plot(d_sort,Open_sort2, label=\"Open\")\r\n",
        "plt.plot(d_sort,Suburban_sort3, label=\"Suburban\")\r\n",
        "plt.legend()\r\n",
        "plt.xlabel('Jarak (m)')\r\n",
        "plt.ylabel('Path Loss (dB)')\r\n",
        "plt.show()"
      ],
      "execution_count": 35,
      "outputs": [
        {
          "output_type": "display_data",
          "data": {
            "image/png": "[encoded data removed]",
            "text/plain": [
              "<Figure size 432x288 with 1 Axes>"
            ]
          },
          "metadata": {
            "tags": [],
            "needs_background": "light"
          }
        }
      ]
    },
    {
      "cell_type": "markdown",
      "metadata": {
        "id": "Iv49PpR4g4h9"
      },
      "source": [
        "**GRAFIK MODEL URBAN (700MHz, 900MHz, dan 1800MHz)**"
      ]
    },
    {
      "cell_type": "code",
      "metadata": {
        "id": "xYQGk5kfg2PL"
      },
      "source": [
        "def cos(frek,tipe,ht,hr,d):\r\n",
        "    if frek in range(150,1501):\r\n",
        "        Ca=69.55\r\n",
        "        Cb=26.16\r\n",
        "    elif frek in range(1501,2001):\r\n",
        "        Ca=46.3\r\n",
        "        Cb=33.9\r\n",
        "    \r\n",
        "    if tipe=='urban' :\r\n",
        "        Cm=0\r\n",
        "    elif tipe=='suburban' :\r\n",
        "        Cm= -2*((np.log10((frek/28)**2))-5.4)\r\n",
        "    elif tipe=='open' :\r\n",
        "        Cm= -4.78*(np.log10(frek))+18.33*(np.log10(frek))-40.94\r\n",
        "    else :\r\n",
        "        Cm='tipe salah'\r\n",
        "    \r\n",
        "    ahr = (1.1*np.log10(frek)-0.7)*hr-(1.56*np.log10(frek)-1.8)\r\n",
        "    Lp = Ca+(Cb*np.log10(frek))-(13.83*np.log(ht))-ahr+((44.9-6.55*np.log10(ht))*np.log10(d))-Cm\r\n",
        "    \r\n",
        "    return Lp"
      ],
      "execution_count": 36,
      "outputs": []
    },
    {
      "cell_type": "code",
      "metadata": {
        "id": "1ruKBxosg-QG"
      },
      "source": [
        "f1=700 #MHz\r\n",
        "f2=900 #MHz\r\n",
        "f3=1800 #MHz\r\n",
        "loc='urban'\r\n",
        "tower=80 #m\r\n",
        "user=1.5 #m\r\n",
        "dmin=200 #m\r\n",
        "dmax=700 #m\r\n",
        "N=200 #titik\r\n",
        "d=np.random.randint(dmin,dmax,N)"
      ],
      "execution_count": 37,
      "outputs": []
    },
    {
      "cell_type": "code",
      "metadata": {
        "colab": {
          "base_uri": "https://localhost:8080/"
        },
        "id": "ggUe3v9_hB_j",
        "outputId": "a41b3755-ddb6-4553-fceb-37b575ace8e1"
      },
      "source": [
        "print(d)"
      ],
      "execution_count": 38,
      "outputs": [
        {
          "output_type": "stream",
          "text": [
            "[471 244 433 491 462 394 605 421 317 691 205 224 241 329 282 425 345 553\n",
            " 563 345 339 301 466 239 298 579 431 494 497 569 643 448 405 511 358 516\n",
            " 410 337 482 600 331 210 328 420 220 554 403 566 271 618 403 462 349 431\n",
            " 453 631 310 209 235 625 341 317 491 427 212 457 359 448 402 573 274 490\n",
            " 389 440 336 649 376 595 538 592 436 353 214 239 566 532 495 413 393 251\n",
            " 229 558 455 479 640 666 326 244 403 641 257 273 210 392 434 295 381 242\n",
            " 528 306 574 628 485 258 489 543 691 415 525 665 202 241 433 651 514 313\n",
            " 256 477 646 612 369 244 535 402 554 598 280 589 543 509 248 233 668 326\n",
            " 353 368 586 674 481 254 528 696 401 665 300 234 267 580 307 558 657 529\n",
            " 604 591 212 678 433 648 229 325 212 437 241 543 690 458 569 586 578 268\n",
            " 347 282 660 235 490 233 521 249 397 335 226 372 373 620 619 413 237 574\n",
            " 325 548]\n"
          ],
          "name": "stdout"
        }
      ]
    },
    {
      "cell_type": "code",
      "metadata": {
        "id": "BVhiSiLshD7r"
      },
      "source": [
        "LpUrban700=cos(f1,loc,tower,user,d)\r\n",
        "LpUrban900=cos(f2,loc,tower,user,d)\r\n",
        "LpUrban1800=cos(f3,loc,tower,user,d)"
      ],
      "execution_count": 39,
      "outputs": []
    },
    {
      "cell_type": "code",
      "metadata": {
        "colab": {
          "base_uri": "https://localhost:8080/"
        },
        "id": "Jl90-DXuhINK",
        "outputId": "3f7a080a-f353-4934-b554-2afc78ced00b"
      },
      "source": [
        "print(LpUrban700, LpUrban900, LpUrban1800)"
      ],
      "execution_count": 40,
      "outputs": [
        {
          "output_type": "stream",
          "text": [
            "[169.06707071 159.80269499 167.88213125 169.65286146 168.79530207\n",
            " 166.5525761  172.59384713 167.48623903 163.48953593 174.4660682\n",
            " 157.34946056 158.59800934 159.62843003 164.01292384 161.84152075\n",
            " 167.61944322 164.6818323  171.32791053 171.58035882 164.6818323\n",
            " 164.43469899 162.75998842 168.9167359  159.51104404 162.61888971\n",
            " 171.97509533 167.81691707 169.73866622 169.82395147 171.72968429\n",
            " 173.45192813 168.36184517 166.94045696 170.21526101 165.20286208\n",
            " 170.35242117 167.1132964  164.35134823 169.39226587 172.47694822\n",
            " 164.09829524 157.6889044  163.97004333 167.45274023 158.34419639\n",
            " 171.35335993 166.87072297 171.65521943 161.28105401 172.89332053\n",
            " 166.87072297 168.79530207 164.84421148 167.81691707 168.51818682\n",
            " 173.18655944 163.17499762 157.62166686 159.27329599 173.05197653\n",
            " 164.51755945 163.48953593 169.65286146 167.68557591 157.82242424\n",
            " 168.64202267 165.24215426 168.36184517 166.83572609 171.82836237\n",
            " 161.43613342 169.62414333 166.37267279 168.10803223 164.30948716\n",
            " 173.58276099 165.89387876 172.35907107 170.94054687 172.28786837\n",
            " 167.97938989 165.00474014 157.95469035 159.51104404 171.65521943\n",
            " 170.78256872 169.76715204 167.21599117 166.51677878 160.20112018\n",
            " 158.90897644 171.4547002  168.58024083 169.30431821 173.38605316\n",
            " 173.94698819 163.8838887  159.80269499 166.87072297 173.40804573\n",
            " 160.53388143 161.38462975 157.6889044  166.48089026 167.91462547\n",
            " 162.47636332 166.07996122 159.68675822 170.67625698 162.9920569\n",
            " 171.85292425 173.11942872 169.47966783 160.58858533 169.59536653\n",
            " 171.07085527 174.4660682  167.28404076 170.59599331 173.92582179\n",
            " 157.14179728 159.62843003 167.88213125 173.6261033  170.29771727\n",
            " 163.31066066 160.47896425 169.24537989 173.51749646 172.75589273\n",
            " 165.62916315 159.80269499 170.86177926 166.83572609 171.35335993\n",
            " 172.42991566 161.74126241 172.21630393 171.07085527 170.16002079\n",
            " 160.03174455 159.15290006 173.98922581 163.8838887  165.00474014\n",
            " 165.59093724 172.14437405 174.11518407 169.36301095 160.36848339\n",
            " 170.67625698 174.56762767 166.80064204 173.92582179 162.71311238\n",
            " 159.21322666 161.07158937 171.99940291 163.0380153  171.4547002\n",
            " 173.75533574 170.70291023 172.57054483 172.26405393 157.82242424\n",
            " 174.19853483 167.88213125 173.56103973 158.90897644 163.84061298\n",
            " 157.82242424 168.01166078 159.62843003 171.07085527 174.44566814\n",
            " 168.67281227 171.72968429 172.14437405 171.95074574 161.12424826\n",
            " 164.76325587 161.84152075 173.81951005 159.27329599 169.62414333\n",
            " 159.15290006 170.48825865 160.08842968 166.65942544 164.26750133\n",
            " 158.72322116 165.74322237 165.7810378  172.93883345 172.91609537\n",
            " 167.21599117 159.3926716  171.85292425 163.84061298 171.19996926] [171.91246703 162.6480913  170.72752757 172.49825778 171.64069839\n",
            " 169.39797242 175.43924345 170.33163535 166.33493224 177.31146452\n",
            " 160.19485688 161.44340565 162.47382635 166.85832016 164.68691707\n",
            " 170.46483953 167.52722862 174.17330685 174.42575514 167.52722862\n",
            " 167.28009531 165.60538474 171.76213222 162.35644036 165.46428602\n",
            " 174.82049165 170.66231339 172.58406253 172.66934778 174.57508061\n",
            " 176.29732444 171.20724149 169.78585328 173.06065732 168.0482584\n",
            " 173.19781749 169.95869272 167.19674455 172.23766219 175.32234454\n",
            " 166.94369156 160.53430071 166.81543965 170.29813655 161.18959271\n",
            " 174.19875625 169.71611929 174.50061574 164.12645032 175.73871685\n",
            " 169.71611929 171.64069839 167.6896078  170.66231339 171.36358314\n",
            " 176.03195576 166.02039393 160.46706318 162.11869231 175.89737285\n",
            " 167.36295577 166.33493224 172.49825778 170.53097223 160.66782055\n",
            " 171.48741899 168.08755058 171.20724149 169.68112241 174.67375868\n",
            " 164.28152974 172.46953965 169.21806911 170.95342854 167.15488348\n",
            " 176.42815731 168.73927508 175.20446739 173.78594319 175.13326469\n",
            " 170.82478621 167.85013646 160.80008667 162.35644036 174.50061574\n",
            " 173.62796503 172.61254836 170.06138749 169.3621751  163.0465165\n",
            " 161.75437275 174.30009652 171.42563715 172.14971453 176.23144948\n",
            " 176.79238451 166.72928502 162.6480913  169.71611929 176.25344205\n",
            " 163.37927775 164.23002607 160.53430071 169.32628658 170.76002179\n",
            " 165.32175964 168.92535754 162.53215454 173.5216533  165.83745321\n",
            " 174.69832057 175.96482504 172.32506415 163.43398165 172.44076285\n",
            " 173.91625158 177.31146452 170.12943708 173.44138962 176.7712181\n",
            " 159.9871936  162.47382635 170.72752757 176.47149961 173.14311358\n",
            " 166.15605698 163.32436057 172.09077621 176.36289277 175.60128905\n",
            " 168.47455947 162.6480913  173.70717558 169.68112241 174.19875625\n",
            " 175.27531198 164.58665872 175.06170024 173.91625158 173.00541711\n",
            " 162.87714086 161.99829638 176.83462213 166.72928502 167.85013646\n",
            " 168.43633356 174.98977036 176.96058038 172.20840727 163.21387971\n",
            " 173.5216533  177.41302399 169.64603836 176.7712181  165.5585087\n",
            " 162.05862297 163.91698568 174.84479923 165.88341161 174.30009652\n",
            " 176.60073206 173.54830655 175.41594115 175.10945025 160.66782055\n",
            " 177.04393115 170.72752757 176.40643605 161.75437275 166.68600929\n",
            " 160.66782055 170.8570571  162.47382635 173.91625158 177.29106446\n",
            " 171.51820859 174.57508061 174.98977036 174.79614206 163.96964458\n",
            " 167.60865219 164.68691707 176.66490637 162.11869231 172.46953965\n",
            " 161.99829638 173.33365497 162.933826   169.50482176 167.11289765\n",
            " 161.56861748 168.58861869 168.62643412 175.78422977 175.76149169\n",
            " 170.06138749 162.23806792 174.69832057 166.68600929 174.04536557] [181.7061282  172.44175248 180.52118874 182.29191895 181.43435956\n",
            " 179.19163359 185.23290462 180.12529653 176.12859342 187.10512569\n",
            " 169.98851806 171.23706683 172.26748753 176.65198134 174.48057824\n",
            " 180.25850071 177.3208898  183.96696802 184.21941631 177.3208898\n",
            " 177.07375648 175.39904592 181.5557934  172.15010153 175.2579472\n",
            " 184.61415283 180.45597456 182.37772371 182.46300896 184.36874179\n",
            " 186.09098562 181.00090267 179.57951445 182.8543185  177.84191957\n",
            " 182.99147866 179.75235389 176.99040572 182.03132336 185.11600572\n",
            " 176.73735273 170.32796189 176.60910082 180.09179773 170.98325388\n",
            " 183.99241742 179.50978046 184.29427692 173.9201115  185.53237803\n",
            " 179.50978046 181.43435956 177.48326897 180.45597456 181.15724431\n",
            " 185.82561694 175.81405511 170.26072435 171.91235348 185.69103403\n",
            " 177.15661694 176.12859342 182.29191895 180.3246334  170.46148173\n",
            " 181.28108017 177.88121175 181.00090267 179.47478358 184.46741986\n",
            " 174.07519091 182.26320082 179.01173029 180.74708972 176.94854466\n",
            " 186.22181849 178.53293625 184.99812856 183.57960436 184.92692586\n",
            " 180.61844739 177.64379763 170.59374784 172.15010153 184.29427692\n",
            " 183.42162621 182.40620954 179.85504867 179.15583628 172.84017768\n",
            " 171.54803393 184.0937577  181.21929832 181.94337571 186.02511066\n",
            " 186.58604568 176.5229462  172.44175248 179.50978046 186.04710322\n",
            " 173.17293892 174.02368724 170.32796189 179.11994775 180.55368296\n",
            " 175.11542082 178.71901871 172.32581571 183.31531448 175.63111439\n",
            " 184.49198175 185.75848621 182.11872533 173.22764283 182.23442403\n",
            " 183.70991276 187.10512569 179.92309826 183.2350508  186.56487928\n",
            " 169.78085477 172.26748753 180.52118874 186.26516079 182.93677476\n",
            " 175.94971816 173.11802175 181.88443739 186.15655395 185.39495023\n",
            " 178.26822064 172.44175248 183.50083675 179.47478358 183.99241742\n",
            " 185.06897316 174.3803199  184.85536142 183.70991276 182.79907828\n",
            " 172.67080204 171.79195756 186.62828331 176.5229462  177.64379763\n",
            " 178.22999474 184.78343154 186.75424156 182.00206845 173.00754089\n",
            " 183.31531448 187.20668516 179.43969953 186.56487928 175.35216988\n",
            " 171.85228415 173.71064686 184.63846041 175.67707279 184.0937577\n",
            " 186.39439323 183.34196773 185.20960232 184.90311142 170.46148173\n",
            " 186.83759232 180.52118874 186.20009722 171.54803393 176.47967047\n",
            " 170.46148173 180.65071828 172.26748753 183.70991276 187.08472564\n",
            " 181.31186977 184.36874179 184.78343154 184.58980323 173.76330575\n",
            " 177.40231336 174.48057824 186.45856755 171.91235348 182.26320082\n",
            " 171.79195756 183.12731614 172.72748718 179.29848294 176.90655882\n",
            " 171.36227866 178.38227987 178.42009529 185.57789095 185.55515287\n",
            " 179.85504867 172.03172909 184.49198175 176.47967047 183.83902675]\n"
          ],
          "name": "stdout"
        }
      ]
    },
    {
      "cell_type": "code",
      "metadata": {
        "colab": {
          "base_uri": "https://localhost:8080/",
          "height": 279
        },
        "id": "4fdLizyvhKAB",
        "outputId": "ab17fb26-4648-487a-d37d-7da3068a60e1"
      },
      "source": [
        "plt.figure()\r\n",
        "plt.plot(d,LpUrban700)\r\n",
        "plt.plot(d,LpUrban900)\r\n",
        "plt.plot(d,LpUrban1800)\r\n",
        "plt.xlabel('Jarak (m)')\r\n",
        "plt.ylabel('Path Loss (dB)')\r\n",
        "plt.show()"
      ],
      "execution_count": 41,
      "outputs": [
        {
          "output_type": "display_data",
          "data": {
            "image/png": "[encoded data removed]",
            "text/plain": [
              "<Figure size 432x288 with 1 Axes>"
            ]
          },
          "metadata": {
            "tags": [],
            "needs_background": "light"
          }
        }
      ]
    },
    {
      "cell_type": "code",
      "metadata": {
        "id": "iYYqf8_thPls"
      },
      "source": [
        "d_sort=d[np.argsort(d)]\r\n",
        "Urban_sort1=LpUrban700[np.argsort(d)]\r\n",
        "Urban_sort2=LpUrban900[np.argsort(d)]\r\n",
        "Urban_sort3=LpUrban1800[np.argsort(d)]"
      ],
      "execution_count": 42,
      "outputs": []
    },
    {
      "cell_type": "code",
      "metadata": {
        "colab": {
          "base_uri": "https://localhost:8080/",
          "height": 295
        },
        "id": "H8K5hB86hR3C",
        "outputId": "88236b33-4fc9-4e18-963f-2599670a2830"
      },
      "source": [
        "plt.figure()\r\n",
        "plt.plot(d_sort,Urban_sort1, label='700MHz')\r\n",
        "plt.plot(d_sort,Urban_sort2, label='900MHz')\r\n",
        "plt.plot(d_sort,Urban_sort3, label='1800MHz')\r\n",
        "plt.legend()\r\n",
        "plt.title('MODEL URBAN (700MHz, 900MHz, 1800MHz)')\r\n",
        "plt.xlabel('Jarak (m)')\r\n",
        "plt.ylabel('Path Loss (dB)')\r\n",
        "plt.show()"
      ],
      "execution_count": 43,
      "outputs": [
        {
          "output_type": "display_data",
          "data": {
            "image/png": "[encoded data removed]",
            "text/plain": [
              "<Figure size 432x288 with 1 Axes>"
            ]
          },
          "metadata": {
            "tags": [],
            "needs_background": "light"
          }
        }
      ]
    }
  ]
}